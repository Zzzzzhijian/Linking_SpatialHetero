{
 "cells": [
  {
   "cell_type": "code",
   "execution_count": 1,
   "metadata": {},
   "outputs": [],
   "source": [
    "import numpy as np\n",
    "import pde\n",
    "import pickle\n",
    "import matplotlib.pyplot as plt\n",
    "from mpl_toolkits.axes_grid1.inset_locator import inset_axes\n",
    "from scipy.optimize import curve_fit\n",
    "import plotly.express as px\n",
    "from matplotlib.colors import ListedColormap\n",
    "\n",
    "import clevercsv\n",
    "import glob\n",
    "import os\n",
    "import pandas as pd\n",
    "import matplotlib.cm as cm\n",
    "from os.path import exists\n",
    "\n",
    "import plotly.express as px\n",
    "import plotly.graph_objects as go\n",
    "import scipy\n"
   ]
  },
  {
   "cell_type": "code",
   "execution_count": 2,
   "metadata": {},
   "outputs": [],
   "source": [
    "def sim_numerical_growth_diffusion(u0, g_x, L, T_cycle, num_T, beta_u, beta_g=0, bc_x = ({\"value\": 0}, {\"value\": 0}), IsPeriodic=False, IsPlot=False):\n",
    "    expr = {'u' : f'laplace(u) * {beta_u} + g * u', \n",
    "        'g' : f'{beta_g} * laplace(g)'}\n",
    "    \n",
    "    if IsPeriodic:\n",
    "        eq = pde.PDE(expr)\n",
    "    else:    \n",
    "        eq = pde.PDE(expr, bc=[bc_x, ])\n",
    "    grid = pde.UnitGrid([L,], periodic=IsPeriodic) # unit grid, for each well\n",
    "    \n",
    "    ## D: drug concentration, LZD gives us binary rsult for gs that's why our experiment works.\n",
    "    # expr = {'u' : f'laplace(u) * {beta} + g0/(1+(D/K)**n) * u', \n",
    "    #         'D' : f'{beta_D} * laplace(D)'}\n",
    "\n",
    "    # Construct the field objects\n",
    "    initial_u = pde.ScalarField(grid, data=u0)\n",
    "    initial_g = pde.ScalarField(grid, data=g_x)\n",
    "    # Set the initial values for all fields, and show it\n",
    "    initial_state = pde.FieldCollection([initial_u,initial_g])\n",
    "   \n",
    "\n",
    "    # simulate the dynamics\n",
    "    storage = pde.MemoryStorage()\n",
    "    final_state = eq.solve(state=initial_state, \n",
    "                           t_range=num_T*T_cycle, \n",
    "                           dt=T_cycle, \n",
    "                           tracker=['progress', storage.tracker(T_cycle)],\n",
    "                           solver=\"scipy\", # DEFAULT: solver: str | SolverBase = \"explicit\"\n",
    "                           ret_info = False,)   \n",
    "    if IsPlot:\n",
    "      initial_state.plot(title='Initial state')\n",
    "      final_state.plot()\n",
    "    \n",
    "    return storage\n"
   ]
  },
  {
   "cell_type": "markdown",
   "metadata": {},
   "source": [
    "## an example for homogeneous drug environment"
   ]
  },
  {
   "cell_type": "markdown",
   "metadata": {},
   "source": []
  },
  {
   "cell_type": "code",
   "execution_count": null,
   "metadata": {},
   "outputs": [],
   "source": []
  },
  {
   "cell_type": "code",
   "execution_count": null,
   "metadata": {},
   "outputs": [],
   "source": []
  },
  {
   "cell_type": "markdown",
   "metadata": {},
   "source": [
    "## an example for heterogeneous drug environment"
   ]
  },
  {
   "cell_type": "markdown",
   "metadata": {},
   "source": []
  },
  {
   "cell_type": "code",
   "execution_count": null,
   "metadata": {},
   "outputs": [],
   "source": []
  }
 ],
 "metadata": {
  "kernelspec": {
   "display_name": "Stats507",
   "language": "python",
   "name": "python3"
  },
  "language_info": {
   "codemirror_mode": {
    "name": "ipython",
    "version": 3
   },
   "file_extension": ".py",
   "mimetype": "text/x-python",
   "name": "python",
   "nbconvert_exporter": "python",
   "pygments_lexer": "ipython3",
   "version": "3.9.6"
  }
 },
 "nbformat": 4,
 "nbformat_minor": 2
}
